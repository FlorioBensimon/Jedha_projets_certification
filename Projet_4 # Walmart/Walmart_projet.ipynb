{
 "cells": [
  {
   "cell_type": "code",
   "execution_count": 1,
   "metadata": {
    "id": "kzJriZiwMDIf",
    "outputId": "df769998-458c-4723-83fb-69f6115eb186"
   },
   "outputs": [
    {
     "name": "stdout",
     "output_type": "stream",
     "text": [
      "Requirement already satisfied: plotly in /opt/conda/lib/python3.8/site-packages (5.3.1)\n",
      "Requirement already satisfied: six in /opt/conda/lib/python3.8/site-packages (from plotly) (1.15.0)\n",
      "Requirement already satisfied: tenacity>=6.2.0 in /opt/conda/lib/python3.8/site-packages (from plotly) (8.0.1)\n"
     ]
    }
   ],
   "source": [
    "!pip install plotly"
   ]
  },
  {
   "cell_type": "code",
   "execution_count": 2,
   "metadata": {
    "id": "cxTaNQkXMDIj"
   },
   "outputs": [],
   "source": [
    "import pandas as pd\n",
    "import numpy as np\n",
    "\n",
    "from sklearn.model_selection import train_test_split\n",
    "from sklearn.impute import SimpleImputer\n",
    "from sklearn.preprocessing import  OneHotEncoder, StandardScaler\n",
    "from sklearn.compose import ColumnTransformer\n",
    "from sklearn.linear_model import LinearRegression\n",
    "from sklearn.metrics import r2_score\n",
    "from sklearn.model_selection import train_test_split\n",
    "from sklearn.impute import SimpleImputer\n",
    "from sklearn.preprocessing import  OneHotEncoder, StandardScaler\n",
    "from sklearn.compose import ColumnTransformer\n",
    "from sklearn.linear_model import Ridge\n",
    "from sklearn.model_selection import cross_val_score, GridSearchCV\n",
    "from sklearn.metrics import r2_score\n",
    "\n",
    "import plotly.express as px\n",
    "import plotly.graph_objects as go\n",
    "import plotly.io as pio\n",
    "# setting Jedha color palette as default\n",
    "pio.templates[\"jedha\"] = go.layout.Template(\n",
    "    layout_colorway=[\"#4B9AC7\", \"#4BE8E0\", \"#9DD4F3\", \"#97FBF6\", \"#2A7FAF\", \"#23B1AB\", \"#0E3449\", \"#015955\"]\n",
    ")\n",
    "pio.templates.default = \"jedha\"\n",
    "pio.renderers.default = \"iframe\" # to be replaced by \"iframe\" if working on JULIE"
   ]
  },
  {
   "cell_type": "code",
   "execution_count": 3,
   "metadata": {
    "colab": {
     "base_uri": "https://localhost:8080/"
    },
    "id": "La8YdVt-MDIk",
    "outputId": "95ae0425-7fcc-477d-e141-0ad1e307c376"
   },
   "outputs": [
    {
     "name": "stdout",
     "output_type": "stream",
     "text": [
      "Loading dataset...\n",
      "...Done.\n",
      "\n"
     ]
    }
   ],
   "source": [
    "# Import dataset\n",
    "print(\"Loading dataset...\")\n",
    "df = pd.read_csv(\"Walmart_Store_sales.csv\")\n",
    "print(\"...Done.\")\n",
    "print()"
   ]
  },
  {
   "cell_type": "code",
   "execution_count": 4,
   "metadata": {
    "colab": {
     "base_uri": "https://localhost:8080/",
     "height": 219
    },
    "id": "jZow_kFLNJ69",
    "outputId": "e0663c97-ffbf-4256-8127-9a4c2fe04819"
   },
   "outputs": [
    {
     "name": "stdout",
     "output_type": "stream",
     "text": [
      "(150, 8)\n"
     ]
    },
    {
     "data": {
      "text/html": [
       "<div>\n",
       "<style scoped>\n",
       "    .dataframe tbody tr th:only-of-type {\n",
       "        vertical-align: middle;\n",
       "    }\n",
       "\n",
       "    .dataframe tbody tr th {\n",
       "        vertical-align: top;\n",
       "    }\n",
       "\n",
       "    .dataframe thead th {\n",
       "        text-align: right;\n",
       "    }\n",
       "</style>\n",
       "<table border=\"1\" class=\"dataframe\">\n",
       "  <thead>\n",
       "    <tr style=\"text-align: right;\">\n",
       "      <th></th>\n",
       "      <th>Store</th>\n",
       "      <th>Date</th>\n",
       "      <th>Weekly_Sales</th>\n",
       "      <th>Holiday_Flag</th>\n",
       "      <th>Temperature</th>\n",
       "      <th>Fuel_Price</th>\n",
       "      <th>CPI</th>\n",
       "      <th>Unemployment</th>\n",
       "    </tr>\n",
       "  </thead>\n",
       "  <tbody>\n",
       "    <tr>\n",
       "      <th>0</th>\n",
       "      <td>6.0</td>\n",
       "      <td>18-02-2011</td>\n",
       "      <td>1572117.54</td>\n",
       "      <td>NaN</td>\n",
       "      <td>59.61</td>\n",
       "      <td>3.045</td>\n",
       "      <td>214.777523</td>\n",
       "      <td>6.858</td>\n",
       "    </tr>\n",
       "    <tr>\n",
       "      <th>1</th>\n",
       "      <td>13.0</td>\n",
       "      <td>25-03-2011</td>\n",
       "      <td>1807545.43</td>\n",
       "      <td>0.0</td>\n",
       "      <td>42.38</td>\n",
       "      <td>3.435</td>\n",
       "      <td>128.616064</td>\n",
       "      <td>7.470</td>\n",
       "    </tr>\n",
       "    <tr>\n",
       "      <th>2</th>\n",
       "      <td>17.0</td>\n",
       "      <td>27-07-2012</td>\n",
       "      <td>NaN</td>\n",
       "      <td>0.0</td>\n",
       "      <td>NaN</td>\n",
       "      <td>NaN</td>\n",
       "      <td>130.719581</td>\n",
       "      <td>5.936</td>\n",
       "    </tr>\n",
       "    <tr>\n",
       "      <th>3</th>\n",
       "      <td>11.0</td>\n",
       "      <td>NaN</td>\n",
       "      <td>1244390.03</td>\n",
       "      <td>0.0</td>\n",
       "      <td>84.57</td>\n",
       "      <td>NaN</td>\n",
       "      <td>214.556497</td>\n",
       "      <td>7.346</td>\n",
       "    </tr>\n",
       "    <tr>\n",
       "      <th>4</th>\n",
       "      <td>6.0</td>\n",
       "      <td>28-05-2010</td>\n",
       "      <td>1644470.66</td>\n",
       "      <td>0.0</td>\n",
       "      <td>78.89</td>\n",
       "      <td>2.759</td>\n",
       "      <td>212.412888</td>\n",
       "      <td>7.092</td>\n",
       "    </tr>\n",
       "  </tbody>\n",
       "</table>\n",
       "</div>"
      ],
      "text/plain": [
       "   Store        Date  Weekly_Sales  Holiday_Flag  Temperature  Fuel_Price  \\\n",
       "0    6.0  18-02-2011    1572117.54           NaN        59.61       3.045   \n",
       "1   13.0  25-03-2011    1807545.43           0.0        42.38       3.435   \n",
       "2   17.0  27-07-2012           NaN           0.0          NaN         NaN   \n",
       "3   11.0         NaN    1244390.03           0.0        84.57         NaN   \n",
       "4    6.0  28-05-2010    1644470.66           0.0        78.89       2.759   \n",
       "\n",
       "          CPI  Unemployment  \n",
       "0  214.777523         6.858  \n",
       "1  128.616064         7.470  \n",
       "2  130.719581         5.936  \n",
       "3  214.556497         7.346  \n",
       "4  212.412888         7.092  "
      ]
     },
     "execution_count": 4,
     "metadata": {},
     "output_type": "execute_result"
    }
   ],
   "source": [
    "print(df.shape)\n",
    "df.head()"
   ]
  },
  {
   "cell_type": "code",
   "execution_count": 5,
   "metadata": {
    "id": "fuGRc-NzMDIm"
   },
   "outputs": [],
   "source": [
    "df = df.dropna(subset = ['Weekly_Sales', 'Date'])\n",
    "df[\"Holiday_Flag\"] = df[\"Holiday_Flag\"].fillna(0)"
   ]
  },
  {
   "cell_type": "code",
   "execution_count": 6,
   "metadata": {
    "colab": {
     "base_uri": "https://localhost:8080/",
     "height": 219
    },
    "id": "DpCzCCkkNLAs",
    "outputId": "89100607-9806-4a0a-fad2-690be3021808"
   },
   "outputs": [
    {
     "name": "stdout",
     "output_type": "stream",
     "text": [
      "(118, 8)\n"
     ]
    },
    {
     "data": {
      "text/html": [
       "<div>\n",
       "<style scoped>\n",
       "    .dataframe tbody tr th:only-of-type {\n",
       "        vertical-align: middle;\n",
       "    }\n",
       "\n",
       "    .dataframe tbody tr th {\n",
       "        vertical-align: top;\n",
       "    }\n",
       "\n",
       "    .dataframe thead th {\n",
       "        text-align: right;\n",
       "    }\n",
       "</style>\n",
       "<table border=\"1\" class=\"dataframe\">\n",
       "  <thead>\n",
       "    <tr style=\"text-align: right;\">\n",
       "      <th></th>\n",
       "      <th>Store</th>\n",
       "      <th>Date</th>\n",
       "      <th>Weekly_Sales</th>\n",
       "      <th>Holiday_Flag</th>\n",
       "      <th>Temperature</th>\n",
       "      <th>Fuel_Price</th>\n",
       "      <th>CPI</th>\n",
       "      <th>Unemployment</th>\n",
       "    </tr>\n",
       "  </thead>\n",
       "  <tbody>\n",
       "    <tr>\n",
       "      <th>0</th>\n",
       "      <td>6.0</td>\n",
       "      <td>18-02-2011</td>\n",
       "      <td>1572117.54</td>\n",
       "      <td>0.0</td>\n",
       "      <td>59.61</td>\n",
       "      <td>3.045</td>\n",
       "      <td>214.777523</td>\n",
       "      <td>6.858</td>\n",
       "    </tr>\n",
       "    <tr>\n",
       "      <th>1</th>\n",
       "      <td>13.0</td>\n",
       "      <td>25-03-2011</td>\n",
       "      <td>1807545.43</td>\n",
       "      <td>0.0</td>\n",
       "      <td>42.38</td>\n",
       "      <td>3.435</td>\n",
       "      <td>128.616064</td>\n",
       "      <td>7.470</td>\n",
       "    </tr>\n",
       "    <tr>\n",
       "      <th>4</th>\n",
       "      <td>6.0</td>\n",
       "      <td>28-05-2010</td>\n",
       "      <td>1644470.66</td>\n",
       "      <td>0.0</td>\n",
       "      <td>78.89</td>\n",
       "      <td>2.759</td>\n",
       "      <td>212.412888</td>\n",
       "      <td>7.092</td>\n",
       "    </tr>\n",
       "    <tr>\n",
       "      <th>5</th>\n",
       "      <td>4.0</td>\n",
       "      <td>28-05-2010</td>\n",
       "      <td>1857533.70</td>\n",
       "      <td>0.0</td>\n",
       "      <td>NaN</td>\n",
       "      <td>2.756</td>\n",
       "      <td>126.160226</td>\n",
       "      <td>7.896</td>\n",
       "    </tr>\n",
       "    <tr>\n",
       "      <th>6</th>\n",
       "      <td>15.0</td>\n",
       "      <td>03-06-2011</td>\n",
       "      <td>695396.19</td>\n",
       "      <td>0.0</td>\n",
       "      <td>69.80</td>\n",
       "      <td>4.069</td>\n",
       "      <td>134.855161</td>\n",
       "      <td>7.658</td>\n",
       "    </tr>\n",
       "  </tbody>\n",
       "</table>\n",
       "</div>"
      ],
      "text/plain": [
       "   Store        Date  Weekly_Sales  Holiday_Flag  Temperature  Fuel_Price  \\\n",
       "0    6.0  18-02-2011    1572117.54           0.0        59.61       3.045   \n",
       "1   13.0  25-03-2011    1807545.43           0.0        42.38       3.435   \n",
       "4    6.0  28-05-2010    1644470.66           0.0        78.89       2.759   \n",
       "5    4.0  28-05-2010    1857533.70           0.0          NaN       2.756   \n",
       "6   15.0  03-06-2011     695396.19           0.0        69.80       4.069   \n",
       "\n",
       "          CPI  Unemployment  \n",
       "0  214.777523         6.858  \n",
       "1  128.616064         7.470  \n",
       "4  212.412888         7.092  \n",
       "5  126.160226         7.896  \n",
       "6  134.855161         7.658  "
      ]
     },
     "execution_count": 6,
     "metadata": {},
     "output_type": "execute_result"
    }
   ],
   "source": [
    "print(df.shape)\n",
    "df.head()"
   ]
  },
  {
   "cell_type": "code",
   "execution_count": 7,
   "metadata": {
    "id": "NbEYszslMDIo"
   },
   "outputs": [],
   "source": [
    "df[\"Date\"] = pd.to_datetime(df['Date'])"
   ]
  },
  {
   "cell_type": "code",
   "execution_count": 8,
   "metadata": {
    "colab": {
     "base_uri": "https://localhost:8080/"
    },
    "id": "_C_VGuVVMDIp",
    "outputId": "c0f7618f-7618-4628-d07a-9a19329c5025"
   },
   "outputs": [
    {
     "name": "stderr",
     "output_type": "stream",
     "text": [
      "<ipython-input-8-af658eae1e37>:1: FutureWarning:\n",
      "\n",
      "DataFrame.mean and DataFrame.median with numeric_only=None will include datetime64 and datetime64tz columns in a future version.\n",
      "\n"
     ]
    }
   ],
   "source": [
    "df.fillna(df.mean(), inplace = True)"
   ]
  },
  {
   "cell_type": "code",
   "execution_count": 9,
   "metadata": {
    "colab": {
     "base_uri": "https://localhost:8080/",
     "height": 602
    },
    "id": "BkclpBX9MDIp",
    "outputId": "f0a56014-2e0e-4a08-eb92-c78c5724a503"
   },
   "outputs": [
    {
     "data": {
      "text/html": [
       "<div>\n",
       "<style scoped>\n",
       "    .dataframe tbody tr th:only-of-type {\n",
       "        vertical-align: middle;\n",
       "    }\n",
       "\n",
       "    .dataframe tbody tr th {\n",
       "        vertical-align: top;\n",
       "    }\n",
       "\n",
       "    .dataframe thead th {\n",
       "        text-align: right;\n",
       "    }\n",
       "</style>\n",
       "<table border=\"1\" class=\"dataframe\">\n",
       "  <thead>\n",
       "    <tr style=\"text-align: right;\">\n",
       "      <th></th>\n",
       "      <th>Store</th>\n",
       "      <th>Date</th>\n",
       "      <th>Weekly_Sales</th>\n",
       "      <th>Holiday_Flag</th>\n",
       "      <th>Temperature</th>\n",
       "      <th>Fuel_Price</th>\n",
       "      <th>CPI</th>\n",
       "      <th>Unemployment</th>\n",
       "      <th>year</th>\n",
       "      <th>month</th>\n",
       "      <th>day</th>\n",
       "      <th>day_of_month</th>\n",
       "    </tr>\n",
       "  </thead>\n",
       "  <tbody>\n",
       "    <tr>\n",
       "      <th>0</th>\n",
       "      <td>6.0</td>\n",
       "      <td>2011-02-18</td>\n",
       "      <td>1572117.54</td>\n",
       "      <td>0.0</td>\n",
       "      <td>59.610000</td>\n",
       "      <td>3.045</td>\n",
       "      <td>214.777523</td>\n",
       "      <td>6.858000</td>\n",
       "      <td>2011</td>\n",
       "      <td>2</td>\n",
       "      <td>18</td>\n",
       "      <td>4</td>\n",
       "    </tr>\n",
       "    <tr>\n",
       "      <th>1</th>\n",
       "      <td>13.0</td>\n",
       "      <td>2011-03-25</td>\n",
       "      <td>1807545.43</td>\n",
       "      <td>0.0</td>\n",
       "      <td>42.380000</td>\n",
       "      <td>3.435</td>\n",
       "      <td>128.616064</td>\n",
       "      <td>7.470000</td>\n",
       "      <td>2011</td>\n",
       "      <td>3</td>\n",
       "      <td>25</td>\n",
       "      <td>4</td>\n",
       "    </tr>\n",
       "    <tr>\n",
       "      <th>4</th>\n",
       "      <td>6.0</td>\n",
       "      <td>2010-05-28</td>\n",
       "      <td>1644470.66</td>\n",
       "      <td>0.0</td>\n",
       "      <td>78.890000</td>\n",
       "      <td>2.759</td>\n",
       "      <td>212.412888</td>\n",
       "      <td>7.092000</td>\n",
       "      <td>2010</td>\n",
       "      <td>5</td>\n",
       "      <td>28</td>\n",
       "      <td>4</td>\n",
       "    </tr>\n",
       "    <tr>\n",
       "      <th>5</th>\n",
       "      <td>4.0</td>\n",
       "      <td>2010-05-28</td>\n",
       "      <td>1857533.70</td>\n",
       "      <td>0.0</td>\n",
       "      <td>60.711589</td>\n",
       "      <td>2.756</td>\n",
       "      <td>126.160226</td>\n",
       "      <td>7.896000</td>\n",
       "      <td>2010</td>\n",
       "      <td>5</td>\n",
       "      <td>28</td>\n",
       "      <td>4</td>\n",
       "    </tr>\n",
       "    <tr>\n",
       "      <th>6</th>\n",
       "      <td>15.0</td>\n",
       "      <td>2011-03-06</td>\n",
       "      <td>695396.19</td>\n",
       "      <td>0.0</td>\n",
       "      <td>69.800000</td>\n",
       "      <td>4.069</td>\n",
       "      <td>134.855161</td>\n",
       "      <td>7.658000</td>\n",
       "      <td>2011</td>\n",
       "      <td>3</td>\n",
       "      <td>6</td>\n",
       "      <td>6</td>\n",
       "    </tr>\n",
       "    <tr>\n",
       "      <th>...</th>\n",
       "      <td>...</td>\n",
       "      <td>...</td>\n",
       "      <td>...</td>\n",
       "      <td>...</td>\n",
       "      <td>...</td>\n",
       "      <td>...</td>\n",
       "      <td>...</td>\n",
       "      <td>...</td>\n",
       "      <td>...</td>\n",
       "      <td>...</td>\n",
       "      <td>...</td>\n",
       "      <td>...</td>\n",
       "    </tr>\n",
       "    <tr>\n",
       "      <th>144</th>\n",
       "      <td>3.0</td>\n",
       "      <td>2012-10-19</td>\n",
       "      <td>424513.08</td>\n",
       "      <td>0.0</td>\n",
       "      <td>73.440000</td>\n",
       "      <td>3.594</td>\n",
       "      <td>226.968844</td>\n",
       "      <td>6.034000</td>\n",
       "      <td>2012</td>\n",
       "      <td>10</td>\n",
       "      <td>19</td>\n",
       "      <td>4</td>\n",
       "    </tr>\n",
       "    <tr>\n",
       "      <th>145</th>\n",
       "      <td>14.0</td>\n",
       "      <td>2010-06-18</td>\n",
       "      <td>2248645.59</td>\n",
       "      <td>0.0</td>\n",
       "      <td>72.620000</td>\n",
       "      <td>2.780</td>\n",
       "      <td>182.442420</td>\n",
       "      <td>8.899000</td>\n",
       "      <td>2010</td>\n",
       "      <td>6</td>\n",
       "      <td>18</td>\n",
       "      <td>4</td>\n",
       "    </tr>\n",
       "    <tr>\n",
       "      <th>147</th>\n",
       "      <td>17.0</td>\n",
       "      <td>2010-11-06</td>\n",
       "      <td>845252.21</td>\n",
       "      <td>0.0</td>\n",
       "      <td>57.140000</td>\n",
       "      <td>2.841</td>\n",
       "      <td>126.111903</td>\n",
       "      <td>7.681299</td>\n",
       "      <td>2010</td>\n",
       "      <td>11</td>\n",
       "      <td>6</td>\n",
       "      <td>5</td>\n",
       "    </tr>\n",
       "    <tr>\n",
       "      <th>148</th>\n",
       "      <td>8.0</td>\n",
       "      <td>2011-12-08</td>\n",
       "      <td>856796.10</td>\n",
       "      <td>0.0</td>\n",
       "      <td>86.050000</td>\n",
       "      <td>3.638</td>\n",
       "      <td>219.007525</td>\n",
       "      <td>7.681299</td>\n",
       "      <td>2011</td>\n",
       "      <td>12</td>\n",
       "      <td>8</td>\n",
       "      <td>3</td>\n",
       "    </tr>\n",
       "    <tr>\n",
       "      <th>149</th>\n",
       "      <td>19.0</td>\n",
       "      <td>2012-04-20</td>\n",
       "      <td>1255087.26</td>\n",
       "      <td>0.0</td>\n",
       "      <td>55.200000</td>\n",
       "      <td>4.170</td>\n",
       "      <td>137.923067</td>\n",
       "      <td>8.150000</td>\n",
       "      <td>2012</td>\n",
       "      <td>4</td>\n",
       "      <td>20</td>\n",
       "      <td>4</td>\n",
       "    </tr>\n",
       "  </tbody>\n",
       "</table>\n",
       "<p>118 rows × 12 columns</p>\n",
       "</div>"
      ],
      "text/plain": [
       "     Store       Date  Weekly_Sales  Holiday_Flag  Temperature  Fuel_Price  \\\n",
       "0      6.0 2011-02-18    1572117.54           0.0    59.610000       3.045   \n",
       "1     13.0 2011-03-25    1807545.43           0.0    42.380000       3.435   \n",
       "4      6.0 2010-05-28    1644470.66           0.0    78.890000       2.759   \n",
       "5      4.0 2010-05-28    1857533.70           0.0    60.711589       2.756   \n",
       "6     15.0 2011-03-06     695396.19           0.0    69.800000       4.069   \n",
       "..     ...        ...           ...           ...          ...         ...   \n",
       "144    3.0 2012-10-19     424513.08           0.0    73.440000       3.594   \n",
       "145   14.0 2010-06-18    2248645.59           0.0    72.620000       2.780   \n",
       "147   17.0 2010-11-06     845252.21           0.0    57.140000       2.841   \n",
       "148    8.0 2011-12-08     856796.10           0.0    86.050000       3.638   \n",
       "149   19.0 2012-04-20    1255087.26           0.0    55.200000       4.170   \n",
       "\n",
       "            CPI  Unemployment  year  month  day  day_of_month  \n",
       "0    214.777523      6.858000  2011      2   18             4  \n",
       "1    128.616064      7.470000  2011      3   25             4  \n",
       "4    212.412888      7.092000  2010      5   28             4  \n",
       "5    126.160226      7.896000  2010      5   28             4  \n",
       "6    134.855161      7.658000  2011      3    6             6  \n",
       "..          ...           ...   ...    ...  ...           ...  \n",
       "144  226.968844      6.034000  2012     10   19             4  \n",
       "145  182.442420      8.899000  2010      6   18             4  \n",
       "147  126.111903      7.681299  2010     11    6             5  \n",
       "148  219.007525      7.681299  2011     12    8             3  \n",
       "149  137.923067      8.150000  2012      4   20             4  \n",
       "\n",
       "[118 rows x 12 columns]"
      ]
     },
     "execution_count": 9,
     "metadata": {},
     "output_type": "execute_result"
    }
   ],
   "source": [
    "df['year']= df['Date'].dt.year\n",
    "df['month']= df['Date'].dt.month\n",
    "df['day']= df['Date'].dt.day\n",
    "df['day_of_month']= df['Date'].dt.weekday\n",
    "df"
   ]
  },
  {
   "cell_type": "code",
   "execution_count": 10,
   "metadata": {
    "id": "IzjEqCWZMDIq"
   },
   "outputs": [],
   "source": [
    "#Suppression de la colone Date\n",
    "df = df.drop(\"Date\", axis=1)"
   ]
  },
  {
   "cell_type": "code",
   "execution_count": 11,
   "metadata": {
    "colab": {
     "base_uri": "https://localhost:8080/",
     "height": 415
    },
    "id": "CV9ab-E2MDIq",
    "outputId": "957d70f6-803c-424c-ff85-93c1bb1ed3ac"
   },
   "outputs": [
    {
     "data": {
      "text/html": [
       "<div>\n",
       "<style scoped>\n",
       "    .dataframe tbody tr th:only-of-type {\n",
       "        vertical-align: middle;\n",
       "    }\n",
       "\n",
       "    .dataframe tbody tr th {\n",
       "        vertical-align: top;\n",
       "    }\n",
       "\n",
       "    .dataframe thead th {\n",
       "        text-align: right;\n",
       "    }\n",
       "</style>\n",
       "<table border=\"1\" class=\"dataframe\">\n",
       "  <thead>\n",
       "    <tr style=\"text-align: right;\">\n",
       "      <th></th>\n",
       "      <th>Store</th>\n",
       "      <th>Weekly_Sales</th>\n",
       "      <th>Holiday_Flag</th>\n",
       "      <th>Temperature</th>\n",
       "      <th>Fuel_Price</th>\n",
       "      <th>CPI</th>\n",
       "      <th>Unemployment</th>\n",
       "      <th>year</th>\n",
       "      <th>month</th>\n",
       "      <th>day</th>\n",
       "      <th>day_of_month</th>\n",
       "    </tr>\n",
       "  </thead>\n",
       "  <tbody>\n",
       "    <tr>\n",
       "      <th>0</th>\n",
       "      <td>6.0</td>\n",
       "      <td>1572117.54</td>\n",
       "      <td>0.0</td>\n",
       "      <td>59.610000</td>\n",
       "      <td>3.045</td>\n",
       "      <td>214.777523</td>\n",
       "      <td>6.858000</td>\n",
       "      <td>2011</td>\n",
       "      <td>2</td>\n",
       "      <td>18</td>\n",
       "      <td>4</td>\n",
       "    </tr>\n",
       "    <tr>\n",
       "      <th>1</th>\n",
       "      <td>13.0</td>\n",
       "      <td>1807545.43</td>\n",
       "      <td>0.0</td>\n",
       "      <td>42.380000</td>\n",
       "      <td>3.435</td>\n",
       "      <td>128.616064</td>\n",
       "      <td>7.470000</td>\n",
       "      <td>2011</td>\n",
       "      <td>3</td>\n",
       "      <td>25</td>\n",
       "      <td>4</td>\n",
       "    </tr>\n",
       "    <tr>\n",
       "      <th>4</th>\n",
       "      <td>6.0</td>\n",
       "      <td>1644470.66</td>\n",
       "      <td>0.0</td>\n",
       "      <td>78.890000</td>\n",
       "      <td>2.759</td>\n",
       "      <td>212.412888</td>\n",
       "      <td>7.092000</td>\n",
       "      <td>2010</td>\n",
       "      <td>5</td>\n",
       "      <td>28</td>\n",
       "      <td>4</td>\n",
       "    </tr>\n",
       "    <tr>\n",
       "      <th>5</th>\n",
       "      <td>4.0</td>\n",
       "      <td>1857533.70</td>\n",
       "      <td>0.0</td>\n",
       "      <td>60.711589</td>\n",
       "      <td>2.756</td>\n",
       "      <td>126.160226</td>\n",
       "      <td>7.896000</td>\n",
       "      <td>2010</td>\n",
       "      <td>5</td>\n",
       "      <td>28</td>\n",
       "      <td>4</td>\n",
       "    </tr>\n",
       "    <tr>\n",
       "      <th>6</th>\n",
       "      <td>15.0</td>\n",
       "      <td>695396.19</td>\n",
       "      <td>0.0</td>\n",
       "      <td>69.800000</td>\n",
       "      <td>4.069</td>\n",
       "      <td>134.855161</td>\n",
       "      <td>7.658000</td>\n",
       "      <td>2011</td>\n",
       "      <td>3</td>\n",
       "      <td>6</td>\n",
       "      <td>6</td>\n",
       "    </tr>\n",
       "    <tr>\n",
       "      <th>...</th>\n",
       "      <td>...</td>\n",
       "      <td>...</td>\n",
       "      <td>...</td>\n",
       "      <td>...</td>\n",
       "      <td>...</td>\n",
       "      <td>...</td>\n",
       "      <td>...</td>\n",
       "      <td>...</td>\n",
       "      <td>...</td>\n",
       "      <td>...</td>\n",
       "      <td>...</td>\n",
       "    </tr>\n",
       "    <tr>\n",
       "      <th>144</th>\n",
       "      <td>3.0</td>\n",
       "      <td>424513.08</td>\n",
       "      <td>0.0</td>\n",
       "      <td>73.440000</td>\n",
       "      <td>3.594</td>\n",
       "      <td>226.968844</td>\n",
       "      <td>6.034000</td>\n",
       "      <td>2012</td>\n",
       "      <td>10</td>\n",
       "      <td>19</td>\n",
       "      <td>4</td>\n",
       "    </tr>\n",
       "    <tr>\n",
       "      <th>145</th>\n",
       "      <td>14.0</td>\n",
       "      <td>2248645.59</td>\n",
       "      <td>0.0</td>\n",
       "      <td>72.620000</td>\n",
       "      <td>2.780</td>\n",
       "      <td>182.442420</td>\n",
       "      <td>8.899000</td>\n",
       "      <td>2010</td>\n",
       "      <td>6</td>\n",
       "      <td>18</td>\n",
       "      <td>4</td>\n",
       "    </tr>\n",
       "    <tr>\n",
       "      <th>147</th>\n",
       "      <td>17.0</td>\n",
       "      <td>845252.21</td>\n",
       "      <td>0.0</td>\n",
       "      <td>57.140000</td>\n",
       "      <td>2.841</td>\n",
       "      <td>126.111903</td>\n",
       "      <td>7.681299</td>\n",
       "      <td>2010</td>\n",
       "      <td>11</td>\n",
       "      <td>6</td>\n",
       "      <td>5</td>\n",
       "    </tr>\n",
       "    <tr>\n",
       "      <th>148</th>\n",
       "      <td>8.0</td>\n",
       "      <td>856796.10</td>\n",
       "      <td>0.0</td>\n",
       "      <td>86.050000</td>\n",
       "      <td>3.638</td>\n",
       "      <td>219.007525</td>\n",
       "      <td>7.681299</td>\n",
       "      <td>2011</td>\n",
       "      <td>12</td>\n",
       "      <td>8</td>\n",
       "      <td>3</td>\n",
       "    </tr>\n",
       "    <tr>\n",
       "      <th>149</th>\n",
       "      <td>19.0</td>\n",
       "      <td>1255087.26</td>\n",
       "      <td>0.0</td>\n",
       "      <td>55.200000</td>\n",
       "      <td>4.170</td>\n",
       "      <td>137.923067</td>\n",
       "      <td>8.150000</td>\n",
       "      <td>2012</td>\n",
       "      <td>4</td>\n",
       "      <td>20</td>\n",
       "      <td>4</td>\n",
       "    </tr>\n",
       "  </tbody>\n",
       "</table>\n",
       "<p>118 rows × 11 columns</p>\n",
       "</div>"
      ],
      "text/plain": [
       "     Store  Weekly_Sales  Holiday_Flag  Temperature  Fuel_Price         CPI  \\\n",
       "0      6.0    1572117.54           0.0    59.610000       3.045  214.777523   \n",
       "1     13.0    1807545.43           0.0    42.380000       3.435  128.616064   \n",
       "4      6.0    1644470.66           0.0    78.890000       2.759  212.412888   \n",
       "5      4.0    1857533.70           0.0    60.711589       2.756  126.160226   \n",
       "6     15.0     695396.19           0.0    69.800000       4.069  134.855161   \n",
       "..     ...           ...           ...          ...         ...         ...   \n",
       "144    3.0     424513.08           0.0    73.440000       3.594  226.968844   \n",
       "145   14.0    2248645.59           0.0    72.620000       2.780  182.442420   \n",
       "147   17.0     845252.21           0.0    57.140000       2.841  126.111903   \n",
       "148    8.0     856796.10           0.0    86.050000       3.638  219.007525   \n",
       "149   19.0    1255087.26           0.0    55.200000       4.170  137.923067   \n",
       "\n",
       "     Unemployment  year  month  day  day_of_month  \n",
       "0        6.858000  2011      2   18             4  \n",
       "1        7.470000  2011      3   25             4  \n",
       "4        7.092000  2010      5   28             4  \n",
       "5        7.896000  2010      5   28             4  \n",
       "6        7.658000  2011      3    6             6  \n",
       "..            ...   ...    ...  ...           ...  \n",
       "144      6.034000  2012     10   19             4  \n",
       "145      8.899000  2010      6   18             4  \n",
       "147      7.681299  2010     11    6             5  \n",
       "148      7.681299  2011     12    8             3  \n",
       "149      8.150000  2012      4   20             4  \n",
       "\n",
       "[118 rows x 11 columns]"
      ]
     },
     "execution_count": 11,
     "metadata": {},
     "output_type": "execute_result"
    }
   ],
   "source": [
    "df"
   ]
  },
  {
   "cell_type": "code",
   "execution_count": 12,
   "metadata": {
    "id": "7HaHKv6bMDIr"
   },
   "outputs": [],
   "source": [
    "# deleting outliers\n",
    "\n",
    "desc = df.describe()\n",
    "desc\n",
    "\n",
    "col_out = [\"Temperature\", \"Fuel_Price\", \"CPI\", \"Unemployment\" ]\n",
    "mask = True\n",
    "for col in col_out:\n",
    "    q1 = desc.loc[\"25%\", col]\n",
    "    q3 = desc.loc[\"75%\", col]\n",
    "    ecart = q3 - q1\n",
    "    cond1 = q1 - 3*ecart < df[col]\n",
    "    cond2 = q3 + 3*ecart > df[col]\n",
    "    mask = mask & cond1 & cond2\n"
   ]
  },
  {
   "cell_type": "code",
   "execution_count": 13,
   "metadata": {
    "colab": {
     "base_uri": "https://localhost:8080/"
    },
    "id": "9mepYNBZMDIr",
    "outputId": "57393a61-b33d-4e58-9cc4-0dee235e4721"
   },
   "outputs": [
    {
     "data": {
      "text/plain": [
       "True     113\n",
       "False      5\n",
       "dtype: int64"
      ]
     },
     "execution_count": 13,
     "metadata": {},
     "output_type": "execute_result"
    }
   ],
   "source": [
    "mask.value_counts()"
   ]
  },
  {
   "cell_type": "code",
   "execution_count": 14,
   "metadata": {
    "colab": {
     "base_uri": "https://localhost:8080/",
     "height": 202
    },
    "id": "JzdajSM_MDIr",
    "outputId": "8030a3d0-f0f4-4268-a349-796035ce70af"
   },
   "outputs": [
    {
     "data": {
      "text/html": [
       "<div>\n",
       "<style scoped>\n",
       "    .dataframe tbody tr th:only-of-type {\n",
       "        vertical-align: middle;\n",
       "    }\n",
       "\n",
       "    .dataframe tbody tr th {\n",
       "        vertical-align: top;\n",
       "    }\n",
       "\n",
       "    .dataframe thead th {\n",
       "        text-align: right;\n",
       "    }\n",
       "</style>\n",
       "<table border=\"1\" class=\"dataframe\">\n",
       "  <thead>\n",
       "    <tr style=\"text-align: right;\">\n",
       "      <th></th>\n",
       "      <th>Store</th>\n",
       "      <th>Weekly_Sales</th>\n",
       "      <th>Holiday_Flag</th>\n",
       "      <th>Temperature</th>\n",
       "      <th>Fuel_Price</th>\n",
       "      <th>CPI</th>\n",
       "      <th>Unemployment</th>\n",
       "      <th>year</th>\n",
       "      <th>month</th>\n",
       "      <th>day</th>\n",
       "      <th>day_of_month</th>\n",
       "    </tr>\n",
       "  </thead>\n",
       "  <tbody>\n",
       "    <tr>\n",
       "      <th>0</th>\n",
       "      <td>6.0</td>\n",
       "      <td>1572117.54</td>\n",
       "      <td>0.0</td>\n",
       "      <td>59.610000</td>\n",
       "      <td>3.045</td>\n",
       "      <td>214.777523</td>\n",
       "      <td>6.858</td>\n",
       "      <td>2011</td>\n",
       "      <td>2</td>\n",
       "      <td>18</td>\n",
       "      <td>4</td>\n",
       "    </tr>\n",
       "    <tr>\n",
       "      <th>1</th>\n",
       "      <td>13.0</td>\n",
       "      <td>1807545.43</td>\n",
       "      <td>0.0</td>\n",
       "      <td>42.380000</td>\n",
       "      <td>3.435</td>\n",
       "      <td>128.616064</td>\n",
       "      <td>7.470</td>\n",
       "      <td>2011</td>\n",
       "      <td>3</td>\n",
       "      <td>25</td>\n",
       "      <td>4</td>\n",
       "    </tr>\n",
       "    <tr>\n",
       "      <th>4</th>\n",
       "      <td>6.0</td>\n",
       "      <td>1644470.66</td>\n",
       "      <td>0.0</td>\n",
       "      <td>78.890000</td>\n",
       "      <td>2.759</td>\n",
       "      <td>212.412888</td>\n",
       "      <td>7.092</td>\n",
       "      <td>2010</td>\n",
       "      <td>5</td>\n",
       "      <td>28</td>\n",
       "      <td>4</td>\n",
       "    </tr>\n",
       "    <tr>\n",
       "      <th>5</th>\n",
       "      <td>4.0</td>\n",
       "      <td>1857533.70</td>\n",
       "      <td>0.0</td>\n",
       "      <td>60.711589</td>\n",
       "      <td>2.756</td>\n",
       "      <td>126.160226</td>\n",
       "      <td>7.896</td>\n",
       "      <td>2010</td>\n",
       "      <td>5</td>\n",
       "      <td>28</td>\n",
       "      <td>4</td>\n",
       "    </tr>\n",
       "    <tr>\n",
       "      <th>6</th>\n",
       "      <td>15.0</td>\n",
       "      <td>695396.19</td>\n",
       "      <td>0.0</td>\n",
       "      <td>69.800000</td>\n",
       "      <td>4.069</td>\n",
       "      <td>134.855161</td>\n",
       "      <td>7.658</td>\n",
       "      <td>2011</td>\n",
       "      <td>3</td>\n",
       "      <td>6</td>\n",
       "      <td>6</td>\n",
       "    </tr>\n",
       "  </tbody>\n",
       "</table>\n",
       "</div>"
      ],
      "text/plain": [
       "   Store  Weekly_Sales  Holiday_Flag  Temperature  Fuel_Price         CPI  \\\n",
       "0    6.0    1572117.54           0.0    59.610000       3.045  214.777523   \n",
       "1   13.0    1807545.43           0.0    42.380000       3.435  128.616064   \n",
       "4    6.0    1644470.66           0.0    78.890000       2.759  212.412888   \n",
       "5    4.0    1857533.70           0.0    60.711589       2.756  126.160226   \n",
       "6   15.0     695396.19           0.0    69.800000       4.069  134.855161   \n",
       "\n",
       "   Unemployment  year  month  day  day_of_month  \n",
       "0         6.858  2011      2   18             4  \n",
       "1         7.470  2011      3   25             4  \n",
       "4         7.092  2010      5   28             4  \n",
       "5         7.896  2010      5   28             4  \n",
       "6         7.658  2011      3    6             6  "
      ]
     },
     "execution_count": 14,
     "metadata": {},
     "output_type": "execute_result"
    }
   ],
   "source": [
    "df_clean = df.loc[mask, :]\n",
    "df_clean.head()"
   ]
  },
  {
   "cell_type": "code",
   "execution_count": 15,
   "metadata": {
    "colab": {
     "base_uri": "https://localhost:8080/"
    },
    "id": "dvMxJmMwMDIr",
    "outputId": "d40d2f4c-d2de-4c6c-8112-050720b411c8"
   },
   "outputs": [
    {
     "name": "stdout",
     "output_type": "stream",
     "text": [
      "<class 'pandas.core.frame.DataFrame'>\n",
      "Int64Index: 113 entries, 0 to 149\n",
      "Data columns (total 11 columns):\n",
      " #   Column        Non-Null Count  Dtype  \n",
      "---  ------        --------------  -----  \n",
      " 0   Store         113 non-null    float64\n",
      " 1   Weekly_Sales  113 non-null    float64\n",
      " 2   Holiday_Flag  113 non-null    float64\n",
      " 3   Temperature   113 non-null    float64\n",
      " 4   Fuel_Price    113 non-null    float64\n",
      " 5   CPI           113 non-null    float64\n",
      " 6   Unemployment  113 non-null    float64\n",
      " 7   year          113 non-null    int64  \n",
      " 8   month         113 non-null    int64  \n",
      " 9   day           113 non-null    int64  \n",
      " 10  day_of_month  113 non-null    int64  \n",
      "dtypes: float64(7), int64(4)\n",
      "memory usage: 10.6 KB\n"
     ]
    }
   ],
   "source": [
    "df_clean.info()"
   ]
  },
  {
   "cell_type": "code",
   "execution_count": 16,
   "metadata": {
    "colab": {
     "base_uri": "https://localhost:8080/"
    },
    "id": "UhERjH8oMDIs",
    "outputId": "a1abd40e-0ce9-4fed-dcce-4c77ef5d76d9"
   },
   "outputs": [
    {
     "name": "stdout",
     "output_type": "stream",
     "text": [
      "Separating labels from features...\n",
      "...Done.\n",
      "\n",
      "Y : \n",
      "0    1572117.54\n",
      "1    1807545.43\n",
      "4    1644470.66\n",
      "5    1857533.70\n",
      "6     695396.19\n",
      "Name: Weekly_Sales, dtype: float64\n",
      "\n",
      "X :\n",
      "   Store  Holiday_Flag  Temperature  Fuel_Price         CPI  Unemployment  \\\n",
      "0    6.0           0.0    59.610000       3.045  214.777523         6.858   \n",
      "1   13.0           0.0    42.380000       3.435  128.616064         7.470   \n",
      "4    6.0           0.0    78.890000       2.759  212.412888         7.092   \n",
      "5    4.0           0.0    60.711589       2.756  126.160226         7.896   \n",
      "6   15.0           0.0    69.800000       4.069  134.855161         7.658   \n",
      "\n",
      "   month  day_of_month  \n",
      "0      2             4  \n",
      "1      3             4  \n",
      "4      5             4  \n",
      "5      5             4  \n",
      "6      3             6  \n"
     ]
    }
   ],
   "source": [
    "# Separate target variable Y from features X\n",
    "print(\"Separating labels from features...\")\n",
    "features_list = [\"Store\", \"Holiday_Flag\", \"Temperature\",\"Fuel_Price\", \"CPI\",\n",
    "                 \"Unemployment\", \"month\", \"day_of_month\"]\n",
    "numeric_indices = [2,3,4,5]\n",
    "categorical_indices = [0,1,6,7]\n",
    "target_variable = \"Weekly_Sales\"\n",
    "\n",
    "X = df_clean.loc[:,features_list]\n",
    "Y = df_clean.loc[:,target_variable]\n",
    "\n",
    "print(\"...Done.\")\n",
    "print()\n",
    "\n",
    "print('Y : ')\n",
    "print(Y.head())\n",
    "print()\n",
    "print('X :')\n",
    "print(X.head())"
   ]
  },
  {
   "cell_type": "code",
   "execution_count": 17,
   "metadata": {
    "colab": {
     "base_uri": "https://localhost:8080/"
    },
    "id": "G3zF-PYfMDIt",
    "outputId": "e0974c3e-d758-4ece-8265-505ec8592daa"
   },
   "outputs": [
    {
     "name": "stdout",
     "output_type": "stream",
     "text": [
      "Dividing into train and test sets...\n",
      "...Done.\n",
      "\n"
     ]
    }
   ],
   "source": [
    "# Divide dataset Train set & Test set \n",
    "print(\"Dividing into train and test sets...\")\n",
    "X_train, X_test, Y_train, Y_test = train_test_split(X, Y, test_size=0.2, \n",
    "                                                    random_state=0)\n",
    "print(\"...Done.\")\n",
    "print()"
   ]
  },
  {
   "cell_type": "code",
   "execution_count": 18,
   "metadata": {
    "colab": {
     "base_uri": "https://localhost:8080/"
    },
    "id": "EVPxgnDqMDIt",
    "outputId": "becbd6a8-64dc-4aad-fd88-59ffda08ce56"
   },
   "outputs": [
    {
     "name": "stdout",
     "output_type": "stream",
     "text": [
      "Convert pandas DataFrames to numpy arrays...\n",
      "...Done\n",
      "[[  9.           0.          85.02         2.653      214.8965756\n",
      "    7.68129907   6.           4.        ]\n",
      " [ 18.           0.          52.02         2.878      132.7633548\n",
      "    9.331       10.           4.        ]\n",
      " [ 19.           0.          72.83         2.932      132.5983871\n",
      "    8.099        7.           4.        ]\n",
      " [ 20.           1.          28.85         3.179      204.6432267\n",
      "    7.484       12.           4.        ]\n",
      " [ 20.           0.          75.17         2.808      204.5675459\n",
      "    7.856        6.           4.        ]]\n",
      "[[  5.           0.          62.37         3.29154206 212.5604113\n",
      "    6.768       12.           5.        ]\n",
      " [  1.           0.          64.74         3.734      221.2118132\n",
      "    7.348        3.           4.        ]]\n",
      "\n",
      "[509263.28, 1029618.1, 1366395.96, 1799737.79, 1973135.87]\n",
      "[301827.36, 1677472.78]\n"
     ]
    }
   ],
   "source": [
    "# Convert pandas DataFrames to numpy arrays before using scikit-learn\n",
    "print(\"Convert pandas DataFrames to numpy arrays...\")\n",
    "X_train = X_train.values\n",
    "X_test = X_test.values\n",
    "Y_train = Y_train.tolist()\n",
    "Y_test = Y_test.tolist()\n",
    "print(\"...Done\")\n",
    "\n",
    "print(X_train[0:5,:])\n",
    "print(X_test[0:2,:])\n",
    "print()\n",
    "print(Y_train[0:5])\n",
    "print(Y_test[0:2])"
   ]
  },
  {
   "cell_type": "code",
   "execution_count": 19,
   "metadata": {
    "colab": {
     "base_uri": "https://localhost:8080/"
    },
    "id": "8lXL4LS3MDIu",
    "outputId": "278234e9-68ef-4341-b293-1a12a914203f"
   },
   "outputs": [
    {
     "name": "stdout",
     "output_type": "stream",
     "text": [
      "Imputing missing values...\n",
      "[[  9.           0.          85.02         2.653      214.8965756\n",
      "    7.68129907   6.           4.        ]\n",
      " [ 18.           0.          52.02         2.878      132.7633548\n",
      "    9.331       10.           4.        ]\n",
      " [ 19.           0.          72.83         2.932      132.5983871\n",
      "    8.099        7.           4.        ]\n",
      " [ 20.           1.          28.85         3.179      204.6432267\n",
      "    7.484       12.           4.        ]\n",
      " [ 20.           0.          75.17         2.808      204.5675459\n",
      "    7.856        6.           4.        ]]\n",
      "\n",
      "...Done!\n",
      "[[  9.           0.          85.02         2.653      214.8965756\n",
      "    7.68129907   6.           4.        ]\n",
      " [ 18.           0.          52.02         2.878      132.7633548\n",
      "    9.331       10.           4.        ]\n",
      " [ 19.           0.          72.83         2.932      132.5983871\n",
      "    8.099        7.           4.        ]\n",
      " [ 20.           1.          28.85         3.179      204.6432267\n",
      "    7.484       12.           4.        ]\n",
      " [ 20.           0.          75.17         2.808      204.5675459\n",
      "    7.856        6.           4.        ]]\n",
      "\n"
     ]
    }
   ],
   "source": [
    "# Missing values\n",
    "print(\"Imputing missing values...\")\n",
    "print(X_train[0:5,:])\n",
    "print()\n",
    "imputer = SimpleImputer(strategy=\"mean\")\n",
    "X_train[:,numeric_indices] = imputer.fit_transform(X_train[:,numeric_indices])\n",
    "print(\"...Done!\")\n",
    "print(X_train[0:5,:]) \n",
    "print() "
   ]
  },
  {
   "cell_type": "code",
   "execution_count": 20,
   "metadata": {
    "colab": {
     "base_uri": "https://localhost:8080/"
    },
    "id": "_rfBd_8iMDIv",
    "outputId": "041991eb-e6bd-45a3-855a-b179a5e52514"
   },
   "outputs": [
    {
     "name": "stdout",
     "output_type": "stream",
     "text": [
      "Encoding categorical features and standardizing numerical features...\n",
      "\n",
      "[[  9.           0.          85.02         2.653      214.8965756\n",
      "    7.68129907   6.           4.        ]\n",
      " [ 18.           0.          52.02         2.878      132.7633548\n",
      "    9.331       10.           4.        ]\n",
      " [ 19.           0.          72.83         2.932      132.5983871\n",
      "    8.099        7.           4.        ]\n",
      " [ 20.           1.          28.85         3.179      204.6432267\n",
      "    7.484       12.           4.        ]\n",
      " [ 20.           0.          75.17         2.808      204.5675459\n",
      "    7.856        6.           4.        ]]\n",
      "...Done\n",
      "  (0, 7)\t1.0\n",
      "  (0, 23)\t1.0\n",
      "  (0, 32)\t1.0\n",
      "  (0, 35)\t1.5180421537696533\n",
      "  (0, 36)\t-1.3692391525005305\n",
      "  (0, 37)\t0.985420030146518\n",
      "  (0, 38)\t0.25945900370072345\n",
      "  (1, 15)\t1.0\n",
      "  (1, 27)\t1.0\n",
      "  (1, 32)\t1.0\n",
      "  (1, 35)\t-0.4257779558708594\n",
      "  (1, 36)\t-0.8792988140570402\n",
      "  (1, 37)\t-1.1594047439459552\n",
      "  (1, 38)\t2.0494444592115024\n",
      "  (2, 16)\t1.0\n",
      "  (2, 24)\t1.0\n",
      "  (2, 32)\t1.0\n",
      "  (2, 35)\t0.8000067859963851\n",
      "  (2, 36)\t-0.761713132830603\n",
      "  (2, 37)\t-1.163712706137608\n",
      "  (2, 38)\t0.7126796947837799\n",
      "  (3, 17)\t1.0\n",
      "  (3, 18)\t1.0\n",
      "  (3, 29)\t1.0\n",
      "  (3, 32)\t1.0\n",
      "  (3, 35)\t-1.790575287397244\n",
      "  (3, 36)\t-0.22386751685041645\n",
      "  (3, 37)\t0.7176643458578794\n",
      "  (3, 38)\t0.045382348904680875\n",
      "  (4, 17)\t1.0\n",
      "  (4, 23)\t1.0\n",
      "  (4, 32)\t1.0\n",
      "  (4, 35)\t0.9378413028618036\n",
      "  (4, 36)\t-1.031724697128348\n",
      "  (4, 37)\t0.7156880194313489\n",
      "  (4, 38)\t0.4490158654364283\n"
     ]
    }
   ],
   "source": [
    "# Encoding categorical features and standardizing numerical features\n",
    "print(\"Encoding categorical features and standardizing numerical features...\")\n",
    "print()\n",
    "print(X_train[0:5,:])\n",
    "\n",
    "# Normalization\n",
    "numeric_transformer = StandardScaler()\n",
    "\n",
    "# OHE / dummyfication\n",
    "categorical_transformer = OneHotEncoder(drop='first')\n",
    "\n",
    "featureencoder = ColumnTransformer(\n",
    "    transformers=[\n",
    "        ('cat', categorical_transformer, categorical_indices),    \n",
    "        ('num', numeric_transformer, numeric_indices)\n",
    "        ]\n",
    "    )\n",
    "\n",
    "X_train = featureencoder.fit_transform(X_train)\n",
    "print(\"...Done\")\n",
    "print(X_train[0:5,:])"
   ]
  },
  {
   "cell_type": "code",
   "execution_count": 21,
   "metadata": {
    "colab": {
     "base_uri": "https://localhost:8080/"
    },
    "id": "vAf9GxehMDIv",
    "outputId": "cb96cdb2-31a3-492d-d20f-eaa7d2224681"
   },
   "outputs": [
    {
     "name": "stdout",
     "output_type": "stream",
     "text": [
      "3-fold cross-validation...\n",
      "The cross-validated R2-score is :  0.8467698479445431\n",
      "The standard deviation is :  0.0414286288035505\n"
     ]
    }
   ],
   "source": [
    "# Regression Linéaire\n",
    "print(\"3-fold cross-validation...\")\n",
    "regressor = LinearRegression()\n",
    "regressor.fit(X_train, Y_train)\n",
    "scores = cross_val_score(regressor, X_train, Y_train, cv=3)\n",
    "print('The cross-validated R2-score is : ', scores.mean())\n",
    "print('The standard deviation is : ', scores.std())"
   ]
  },
  {
   "cell_type": "code",
   "execution_count": 22,
   "metadata": {
    "colab": {
     "base_uri": "https://localhost:8080/"
    },
    "id": "XES2HE-fP2O3",
    "outputId": "02f433dd-5220-4a33-9ddd-4460805fddb6"
   },
   "outputs": [
    {
     "name": "stdout",
     "output_type": "stream",
     "text": [
      "[0.84283453 0.89936242 0.79811259]\n"
     ]
    }
   ],
   "source": [
    "print(scores)"
   ]
  },
  {
   "cell_type": "code",
   "execution_count": 23,
   "metadata": {
    "id": "wKCV16ycMDIw",
    "outputId": "29033da2-5b69-4bcc-c444-45b696891945"
   },
   "outputs": [
    {
     "name": "stdout",
     "output_type": "stream",
     "text": [
      "Grid search...\n",
      "Fitting 3 folds for each of 4 candidates, totalling 12 fits\n",
      "[CV] alpha=0.0 .......................................................\n",
      "[CV] ........................... alpha=0.0, score=0.838, total=   0.0s\n",
      "[CV] alpha=0.0 .......................................................\n",
      "[CV] ........................... alpha=0.0, score=0.900, total=   0.0s\n",
      "[CV] alpha=0.0 .......................................................\n",
      "[CV] ........................... alpha=0.0, score=0.799, total=   0.0s\n",
      "[CV] alpha=0.1 .......................................................\n",
      "[CV] ........................... alpha=0.1, score=0.825, total=   0.0s\n",
      "[CV] alpha=0.1 .......................................................\n",
      "[CV] ........................... alpha=0.1, score=0.859, total=   0.0s\n",
      "[CV] alpha=0.1 .......................................................\n",
      "[CV] ........................... alpha=0.1, score=0.891, total=   0.0s\n",
      "[CV] alpha=0.5 .......................................................\n",
      "[CV] ........................... alpha=0.5, score=0.790, total=   0.0s\n",
      "[CV] alpha=0.5 .......................................................\n",
      "[CV] ........................... alpha=0.5, score=0.798, total=   0.0s\n",
      "[CV] alpha=0.5 .......................................................\n",
      "[CV] ........................... alpha=0.5, score=0.752, total=   0.0s\n",
      "[CV] alpha=1.0 .......................................................\n",
      "[CV] ........................... alpha=1.0, score=0.729, total=   0.0s\n",
      "[CV] alpha=1.0 .......................................................\n",
      "[CV] ........................... alpha=1.0, score=0.744, total=   0.0s\n",
      "[CV] alpha=1.0 .......................................................\n",
      "[CV] ........................... alpha=1.0, score=0.616, total=   0.0s\n",
      "...Done.\n",
      "Best hyperparameters :  {'alpha': 0.1}\n",
      "Best R2 score :  0.8581090673199104\n"
     ]
    },
    {
     "name": "stderr",
     "output_type": "stream",
     "text": [
      "[Parallel(n_jobs=1)]: Using backend SequentialBackend with 1 concurrent workers.\n",
      "[Parallel(n_jobs=1)]: Done   1 out of   1 | elapsed:    0.0s remaining:    0.0s\n",
      "[Parallel(n_jobs=1)]: Done   2 out of   2 | elapsed:    0.0s remaining:    0.0s\n",
      "[Parallel(n_jobs=1)]: Done  12 out of  12 | elapsed:    0.1s finished\n"
     ]
    }
   ],
   "source": [
    "# Perform grid search\n",
    "print(\"Grid search...\")\n",
    "regressor = Ridge()\n",
    "# Grid of values to be tested\n",
    "params = {\n",
    "    'alpha': [0.0, 0.1, 0.5, 1.0] # 0 corresponds to no regularization\n",
    "}\n",
    "gridsearch = GridSearchCV(regressor, param_grid = params, cv = 3, verbose = 3) # cv : the number of folds to be used for CV\n",
    "gridsearch.fit(X_train, Y_train)\n",
    "print(\"...Done.\")\n",
    "print(\"Best hyperparameters : \", gridsearch.best_params_)\n",
    "print(\"Best R2 score : \", gridsearch.best_score_)"
   ]
  },
  {
   "cell_type": "code",
   "execution_count": 24,
   "metadata": {
    "id": "V0GglirBMDIw",
    "outputId": "1ef16944-24ec-46ef-a7eb-fdd8844c1b37"
   },
   "outputs": [
    {
     "name": "stdout",
     "output_type": "stream",
     "text": [
      "Predictions on training set...\n",
      "...Done.\n",
      "[ 439864.01740639 1133832.27251709 1350722.23888321 2016432.69606163\n",
      " 1990007.70358603 2058587.95643525 2013859.96407002 1479763.5933744\n",
      "  528041.56612596 2431525.10883788 1411094.32021084 2109185.03722335\n",
      " 1937349.68047498 2180309.37962179 1304039.69087903 1920382.63712877\n",
      "  598105.62372323 1375778.77976948 1386713.75499367  859358.33803666\n",
      " 2024977.60707977  354492.33983685 1891938.41603943  423290.18220998\n",
      " 1533812.22067877 1872454.59147726 1939895.53819339 1966788.10453848\n",
      " 1929021.11975693  685114.05354672  548350.01364829 1147174.73026518\n",
      "  434102.4790461   573321.12865628 1520858.11779237 1920693.10411832\n",
      " 2392722.92312248  541739.955359   1498158.40920933 1629064.35742501\n",
      "  523232.60046254  245080.16945653  480588.03979536 1480677.4366632\n",
      "  787299.06820462  412536.09964115 2001275.41817108 2230807.87947752\n",
      " 1721021.42910858  466162.03834194  965281.92831462 1550311.27398186\n",
      " 2173902.3391097   190643.2088855  1307488.11440745  944775.23961364\n",
      " 2047802.08012016  765250.31180465  932375.33590828 2052235.71435321\n",
      " 1460402.06022978  880898.52676968  982022.24906914  397331.13708464\n",
      " 1831085.7834733   412304.53214412  673223.4412361   246570.58092197\n",
      " 1164135.79953642 1946484.98292501 1843387.24188925 2201963.23297622\n",
      " 1470921.86926331 1771598.72543679 1456802.02469477 1552967.77134249\n",
      "  894329.86919224  443838.8229649  1021829.41297027  729706.5466292\n",
      " 1900039.8953229   395824.91546757 1417781.4780528   524735.95764824\n",
      " 1511340.46925977 2094650.4772233   607177.00770639  570589.63589079\n",
      "  836169.88086357 2002462.26463386]\n",
      "\n"
     ]
    }
   ],
   "source": [
    "# Predictions on training set\n",
    "# The model has already be re-trained on all the training set at the end of the grid search, so we can directly use it !\n",
    "print(\"Predictions on training set...\")\n",
    "Y_train_pred = gridsearch.predict(X_train)\n",
    "print(\"...Done.\")\n",
    "print(Y_train_pred)\n",
    "print()"
   ]
  },
  {
   "cell_type": "code",
   "execution_count": 25,
   "metadata": {
    "id": "AjEO2McRMDIx",
    "outputId": "9a29396c-a6a9-46f1-def9-520ff40403fd"
   },
   "outputs": [
    {
     "name": "stdout",
     "output_type": "stream",
     "text": [
      "Imputing missing values...\n",
      "[[  5.           0.          62.37         3.29154206 212.5604113\n",
      "    6.768       12.           5.        ]\n",
      " [  1.           0.          64.74         3.734      221.2118132\n",
      "    7.348        3.           4.        ]\n",
      " [  6.           0.          60.71158879   3.523      217.2706543\n",
      "    6.925        8.           4.        ]\n",
      " [  8.           0.          82.92         3.554      219.0701968\n",
      "    6.425        8.           4.        ]\n",
      " [  3.           0.          73.44         3.594      226.9688442\n",
      "    6.034       10.           4.        ]]\n",
      "\n",
      "...Done!\n",
      "[[  5.           0.          62.37         3.29154206 212.5604113\n",
      "    6.768       12.           5.        ]\n",
      " [  1.           0.          64.74         3.734      221.2118132\n",
      "    7.348        3.           4.        ]\n",
      " [  6.           0.          60.71158879   3.523      217.2706543\n",
      "    6.925        8.           4.        ]\n",
      " [  8.           0.          82.92         3.554      219.0701968\n",
      "    6.425        8.           4.        ]\n",
      " [  3.           0.          73.44         3.594      226.9688442\n",
      "    6.034       10.           4.        ]]\n",
      "\n"
     ]
    }
   ],
   "source": [
    "# Missing values\n",
    "print(\"Imputing missing values...\")\n",
    "print(X_test[0:5,:])\n",
    "print()\n",
    "\n",
    "X_test[:,numeric_indices] = imputer.transform(X_test[:,numeric_indices])\n",
    "print(\"...Done!\")\n",
    "print(X_test[0:5,:]) \n",
    "print() "
   ]
  },
  {
   "cell_type": "code",
   "execution_count": 26,
   "metadata": {
    "id": "fjFrCLefMDI1"
   },
   "outputs": [
    {
     "name": "stdout",
     "output_type": "stream",
     "text": [
      "Encoding categorical features and standardizing numerical features...\n",
      "\n",
      "[[  5.           0.          62.37         3.29154206 212.5604113\n",
      "    6.768       12.           5.        ]\n",
      " [  1.           0.          64.74         3.734      221.2118132\n",
      "    7.348        3.           4.        ]\n",
      " [  6.           0.          60.71158879   3.523      217.2706543\n",
      "    6.925        8.           4.        ]\n",
      " [  8.           0.          82.92         3.554      219.0701968\n",
      "    6.425        8.           4.        ]\n",
      " [  3.           0.          73.44         3.594      226.9688442\n",
      "    6.034       10.           4.        ]]\n",
      "...Done\n",
      "  (0, 3)\t1.0\n",
      "  (0, 29)\t1.0\n",
      "  (0, 33)\t1.0\n",
      "  (0, 35)\t0.18387471488002846\n",
      "  (0, 36)\t0.021194230004679016\n",
      "  (0, 37)\t0.9244134968803781\n",
      "  (0, 38)\t-0.7315036667854571\n",
      "  (1, 20)\t1.0\n",
      "  (1, 32)\t1.0\n",
      "  (1, 35)\t0.3234763409360288\n",
      "  (1, 36)\t0.984651984643526\n",
      "  (1, 37)\t1.1503359792208079\n",
      "  (1, 38)\t-0.10218259262305492\n",
      "  (2, 4)\t1.0\n",
      "  (2, 25)\t1.0\n",
      "  (2, 32)\t1.0\n",
      "  (2, 35)\t0.08618825822307333\n",
      "  (2, 36)\t0.5251968228142979\n",
      "  (2, 37)\t1.047416659059983\n",
      "  (2, 38)\t-0.5611529622277034\n",
      "  (3, 6)\t1.0\n",
      "  (3, 25)\t1.0\n",
      "  (3, 32)\t1.0\n",
      "  (3, 35)\t1.3943445104288938\n",
      "  (3, 36)\t0.5926997138887337\n",
      "  (3, 37)\t1.0944098647134055\n",
      "  (3, 38)\t-1.1036711296090844\n",
      "  (4, 1)\t1.0\n",
      "  (4, 27)\t1.0\n",
      "  (4, 32)\t1.0\n",
      "  (4, 35)\t0.8359380062048916\n",
      "  (4, 36)\t0.6798002185009098\n",
      "  (4, 37)\t1.3006749357812255\n",
      "  (4, 38)\t-1.5279203365013245\n"
     ]
    }
   ],
   "source": [
    "# Encoding categorical features and standardizing numerical features\n",
    "print(\"Encoding categorical features and standardizing numerical features...\")\n",
    "print()\n",
    "print(X_test[0:5,:])\n",
    "\n",
    "X_test = featureencoder.transform(X_test)\n",
    "print(\"...Done\")\n",
    "print(X_test[0:5,:])"
   ]
  },
  {
   "cell_type": "code",
   "execution_count": 27,
   "metadata": {
    "id": "ORJJXdZsMDI1"
   },
   "outputs": [
    {
     "name": "stdout",
     "output_type": "stream",
     "text": [
      "Predictions on test set...\n",
      "...Done.\n",
      "[ 380441.84386468 1362097.17135821 1594526.54840585  781191.14035975\n",
      "  505223.31867602 1182637.3336401  1908228.7406636  2374899.83148747\n",
      " 2207289.39338058 1651427.89328285  734113.01092664 1943866.51709159\n",
      " 1284089.79600803  152154.53549211  548990.47548623  172834.5406134\n",
      "  754000.56796207  302343.41704979 1853511.8303896   628330.63937813\n",
      " 1923563.5017687   514785.70685588 2129932.39602907]\n",
      "\n"
     ]
    }
   ],
   "source": [
    "# Predictions on test set\n",
    "print(\"Predictions on test set...\")\n",
    "Y_test_pred = gridsearch.predict(X_test)\n",
    "print(\"...Done.\")\n",
    "print(Y_test_pred)\n",
    "print()"
   ]
  },
  {
   "cell_type": "code",
   "execution_count": 28,
   "metadata": {
    "id": "eWgETn4AMDI2"
   },
   "outputs": [
    {
     "name": "stdout",
     "output_type": "stream",
     "text": [
      "R2 score on training set :  0.9745268032312483\n",
      "R2 score on test set :  0.9317298515003947\n"
     ]
    }
   ],
   "source": [
    "# Print R^2 scores on train/test sets for the Ridge model with optimal value of the regularization strength\n",
    "print(\"R2 score on training set : \", r2_score(Y_train, Y_train_pred))\n",
    "print(\"R2 score on test set : \", r2_score(Y_test, Y_test_pred))\n"
   ]
  }
 ],
 "metadata": {
  "colab": {
   "name": "Walmart - projet.ipynb",
   "provenance": []
  },
  "kernelspec": {
   "display_name": "Python 3",
   "language": "python",
   "name": "python3"
  },
  "language_info": {
   "codemirror_mode": {
    "name": "ipython",
    "version": 3
   },
   "file_extension": ".py",
   "mimetype": "text/x-python",
   "name": "python",
   "nbconvert_exporter": "python",
   "pygments_lexer": "ipython3",
   "version": "3.8.6"
  }
 },
 "nbformat": 4,
 "nbformat_minor": 4
}
