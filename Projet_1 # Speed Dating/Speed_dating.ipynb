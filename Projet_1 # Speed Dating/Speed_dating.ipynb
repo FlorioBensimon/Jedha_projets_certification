{
 "cells": [
  {
   "cell_type": "code",
   "execution_count": 1,
   "metadata": {},
   "outputs": [],
   "source": [
    "import pandas as pd\n",
    "import matplotlib.pyplot as plt\n",
    "import numpy as np\n",
    "import seaborn as sns"
   ]
  },
  {
   "cell_type": "code",
   "execution_count": 2,
   "metadata": {},
   "outputs": [
    {
     "name": "stdout",
     "output_type": "stream",
     "text": [
      "Note: you may need to restart the kernel to use updated packages.\n"
     ]
    }
   ],
   "source": [
    "pip install seaborn==0.11.0 -q"
   ]
  },
  {
   "cell_type": "code",
   "execution_count": 3,
   "metadata": {},
   "outputs": [],
   "source": [
    "df2 = pd.read_csv('Speed_Dating_Data.csv', encoding = 'ISO-8859-1')"
   ]
  },
  {
   "cell_type": "code",
   "execution_count": 4,
   "metadata": {},
   "outputs": [
    {
     "data": {
      "text/html": [
       "<div>\n",
       "<style scoped>\n",
       "    .dataframe tbody tr th:only-of-type {\n",
       "        vertical-align: middle;\n",
       "    }\n",
       "\n",
       "    .dataframe tbody tr th {\n",
       "        vertical-align: top;\n",
       "    }\n",
       "\n",
       "    .dataframe thead th {\n",
       "        text-align: right;\n",
       "    }\n",
       "</style>\n",
       "<table border=\"1\" class=\"dataframe\">\n",
       "  <thead>\n",
       "    <tr style=\"text-align: right;\">\n",
       "      <th></th>\n",
       "      <th>iid</th>\n",
       "      <th>id</th>\n",
       "      <th>gender</th>\n",
       "      <th>idg</th>\n",
       "      <th>condtn</th>\n",
       "      <th>wave</th>\n",
       "      <th>round</th>\n",
       "      <th>position</th>\n",
       "      <th>positin1</th>\n",
       "      <th>order</th>\n",
       "      <th>...</th>\n",
       "      <th>attr3_3</th>\n",
       "      <th>sinc3_3</th>\n",
       "      <th>intel3_3</th>\n",
       "      <th>fun3_3</th>\n",
       "      <th>amb3_3</th>\n",
       "      <th>attr5_3</th>\n",
       "      <th>sinc5_3</th>\n",
       "      <th>intel5_3</th>\n",
       "      <th>fun5_3</th>\n",
       "      <th>amb5_3</th>\n",
       "    </tr>\n",
       "  </thead>\n",
       "  <tbody>\n",
       "    <tr>\n",
       "      <th>0</th>\n",
       "      <td>1</td>\n",
       "      <td>1.0</td>\n",
       "      <td>0</td>\n",
       "      <td>1</td>\n",
       "      <td>1</td>\n",
       "      <td>1</td>\n",
       "      <td>10</td>\n",
       "      <td>7</td>\n",
       "      <td>NaN</td>\n",
       "      <td>4</td>\n",
       "      <td>...</td>\n",
       "      <td>5.0</td>\n",
       "      <td>7.0</td>\n",
       "      <td>7.0</td>\n",
       "      <td>7.0</td>\n",
       "      <td>7.0</td>\n",
       "      <td>NaN</td>\n",
       "      <td>NaN</td>\n",
       "      <td>NaN</td>\n",
       "      <td>NaN</td>\n",
       "      <td>NaN</td>\n",
       "    </tr>\n",
       "    <tr>\n",
       "      <th>1</th>\n",
       "      <td>1</td>\n",
       "      <td>1.0</td>\n",
       "      <td>0</td>\n",
       "      <td>1</td>\n",
       "      <td>1</td>\n",
       "      <td>1</td>\n",
       "      <td>10</td>\n",
       "      <td>7</td>\n",
       "      <td>NaN</td>\n",
       "      <td>3</td>\n",
       "      <td>...</td>\n",
       "      <td>5.0</td>\n",
       "      <td>7.0</td>\n",
       "      <td>7.0</td>\n",
       "      <td>7.0</td>\n",
       "      <td>7.0</td>\n",
       "      <td>NaN</td>\n",
       "      <td>NaN</td>\n",
       "      <td>NaN</td>\n",
       "      <td>NaN</td>\n",
       "      <td>NaN</td>\n",
       "    </tr>\n",
       "    <tr>\n",
       "      <th>2</th>\n",
       "      <td>1</td>\n",
       "      <td>1.0</td>\n",
       "      <td>0</td>\n",
       "      <td>1</td>\n",
       "      <td>1</td>\n",
       "      <td>1</td>\n",
       "      <td>10</td>\n",
       "      <td>7</td>\n",
       "      <td>NaN</td>\n",
       "      <td>10</td>\n",
       "      <td>...</td>\n",
       "      <td>5.0</td>\n",
       "      <td>7.0</td>\n",
       "      <td>7.0</td>\n",
       "      <td>7.0</td>\n",
       "      <td>7.0</td>\n",
       "      <td>NaN</td>\n",
       "      <td>NaN</td>\n",
       "      <td>NaN</td>\n",
       "      <td>NaN</td>\n",
       "      <td>NaN</td>\n",
       "    </tr>\n",
       "    <tr>\n",
       "      <th>3</th>\n",
       "      <td>1</td>\n",
       "      <td>1.0</td>\n",
       "      <td>0</td>\n",
       "      <td>1</td>\n",
       "      <td>1</td>\n",
       "      <td>1</td>\n",
       "      <td>10</td>\n",
       "      <td>7</td>\n",
       "      <td>NaN</td>\n",
       "      <td>5</td>\n",
       "      <td>...</td>\n",
       "      <td>5.0</td>\n",
       "      <td>7.0</td>\n",
       "      <td>7.0</td>\n",
       "      <td>7.0</td>\n",
       "      <td>7.0</td>\n",
       "      <td>NaN</td>\n",
       "      <td>NaN</td>\n",
       "      <td>NaN</td>\n",
       "      <td>NaN</td>\n",
       "      <td>NaN</td>\n",
       "    </tr>\n",
       "    <tr>\n",
       "      <th>4</th>\n",
       "      <td>1</td>\n",
       "      <td>1.0</td>\n",
       "      <td>0</td>\n",
       "      <td>1</td>\n",
       "      <td>1</td>\n",
       "      <td>1</td>\n",
       "      <td>10</td>\n",
       "      <td>7</td>\n",
       "      <td>NaN</td>\n",
       "      <td>7</td>\n",
       "      <td>...</td>\n",
       "      <td>5.0</td>\n",
       "      <td>7.0</td>\n",
       "      <td>7.0</td>\n",
       "      <td>7.0</td>\n",
       "      <td>7.0</td>\n",
       "      <td>NaN</td>\n",
       "      <td>NaN</td>\n",
       "      <td>NaN</td>\n",
       "      <td>NaN</td>\n",
       "      <td>NaN</td>\n",
       "    </tr>\n",
       "  </tbody>\n",
       "</table>\n",
       "<p>5 rows × 195 columns</p>\n",
       "</div>"
      ],
      "text/plain": [
       "   iid   id  gender  idg  condtn  wave  round  position  positin1  order  ...  \\\n",
       "0    1  1.0       0    1       1     1     10         7       NaN      4  ...   \n",
       "1    1  1.0       0    1       1     1     10         7       NaN      3  ...   \n",
       "2    1  1.0       0    1       1     1     10         7       NaN     10  ...   \n",
       "3    1  1.0       0    1       1     1     10         7       NaN      5  ...   \n",
       "4    1  1.0       0    1       1     1     10         7       NaN      7  ...   \n",
       "\n",
       "   attr3_3  sinc3_3  intel3_3  fun3_3  amb3_3  attr5_3  sinc5_3  intel5_3  \\\n",
       "0      5.0      7.0       7.0     7.0     7.0      NaN      NaN       NaN   \n",
       "1      5.0      7.0       7.0     7.0     7.0      NaN      NaN       NaN   \n",
       "2      5.0      7.0       7.0     7.0     7.0      NaN      NaN       NaN   \n",
       "3      5.0      7.0       7.0     7.0     7.0      NaN      NaN       NaN   \n",
       "4      5.0      7.0       7.0     7.0     7.0      NaN      NaN       NaN   \n",
       "\n",
       "   fun5_3  amb5_3  \n",
       "0     NaN     NaN  \n",
       "1     NaN     NaN  \n",
       "2     NaN     NaN  \n",
       "3     NaN     NaN  \n",
       "4     NaN     NaN  \n",
       "\n",
       "[5 rows x 195 columns]"
      ]
     },
     "execution_count": 4,
     "metadata": {},
     "output_type": "execute_result"
    }
   ],
   "source": [
    "df2.head()"
   ]
  },
  {
   "cell_type": "code",
   "execution_count": 5,
   "metadata": {},
   "outputs": [
    {
     "data": {
      "text/plain": [
       "(8378, 195)"
      ]
     },
     "execution_count": 5,
     "metadata": {},
     "output_type": "execute_result"
    }
   ],
   "source": [
    "df2.shape"
   ]
  },
  {
   "cell_type": "code",
   "execution_count": 6,
   "metadata": {},
   "outputs": [
    {
     "data": {
      "text/plain": [
       "Index(['iid', 'id', 'gender', 'idg', 'condtn', 'wave', 'round', 'position',\n",
       "       'positin1', 'order',\n",
       "       ...\n",
       "       'attr3_3', 'sinc3_3', 'intel3_3', 'fun3_3', 'amb3_3', 'attr5_3',\n",
       "       'sinc5_3', 'intel5_3', 'fun5_3', 'amb5_3'],\n",
       "      dtype='object', length=195)"
      ]
     },
     "execution_count": 6,
     "metadata": {},
     "output_type": "execute_result"
    }
   ],
   "source": [
    "df2.columns"
   ]
  },
  {
   "cell_type": "code",
   "execution_count": 7,
   "metadata": {},
   "outputs": [
    {
     "data": {
      "text/plain": [
       "iid           int64\n",
       "id          float64\n",
       "gender        int64\n",
       "idg           int64\n",
       "condtn        int64\n",
       "             ...   \n",
       "attr5_3     float64\n",
       "sinc5_3     float64\n",
       "intel5_3    float64\n",
       "fun5_3      float64\n",
       "amb5_3      float64\n",
       "Length: 195, dtype: object"
      ]
     },
     "execution_count": 7,
     "metadata": {},
     "output_type": "execute_result"
    }
   ],
   "source": [
    "df2.dtypes"
   ]
  },
  {
   "cell_type": "code",
   "execution_count": 8,
   "metadata": {},
   "outputs": [
    {
     "data": {
      "text/plain": [
       "iid            0\n",
       "id             1\n",
       "gender         0\n",
       "idg            0\n",
       "condtn         0\n",
       "            ... \n",
       "attr5_3     6362\n",
       "sinc5_3     6362\n",
       "intel5_3    6362\n",
       "fun5_3      6362\n",
       "amb5_3      6362\n",
       "Length: 195, dtype: int64"
      ]
     },
     "execution_count": 8,
     "metadata": {},
     "output_type": "execute_result"
    }
   ],
   "source": [
    "df2.isnull().sum()"
   ]
  },
  {
   "cell_type": "code",
   "execution_count": 9,
   "metadata": {},
   "outputs": [
    {
     "name": "stdout",
     "output_type": "stream",
     "text": [
      "['iid', 'id', 'gender', 'idg', 'condtn', 'wave', 'round', 'position', 'positin1', 'order', 'partner', 'pid', 'match', 'int_corr', 'samerace', 'age_o', 'race_o', 'pf_o_att', 'pf_o_sin', 'pf_o_int', 'pf_o_fun', 'pf_o_amb', 'pf_o_sha', 'dec_o', 'attr_o', 'sinc_o', 'intel_o', 'fun_o', 'amb_o', 'shar_o', 'like_o', 'prob_o', 'met_o', 'age', 'field', 'field_cd', 'undergra', 'mn_sat', 'tuition', 'race', 'imprace', 'imprelig', 'from', 'zipcode', 'income', 'goal', 'date', 'go_out', 'career', 'career_c', 'sports', 'tvsports', 'exercise', 'dining', 'museums', 'art', 'hiking', 'gaming', 'clubbing', 'reading', 'tv', 'theater', 'movies', 'concerts', 'music', 'shopping', 'yoga', 'exphappy', 'expnum', 'attr1_1', 'sinc1_1', 'intel1_1', 'fun1_1', 'amb1_1', 'shar1_1', 'attr4_1', 'sinc4_1', 'intel4_1', 'fun4_1', 'amb4_1', 'shar4_1', 'attr2_1', 'sinc2_1', 'intel2_1', 'fun2_1', 'amb2_1', 'shar2_1', 'attr3_1', 'sinc3_1', 'fun3_1', 'intel3_1', 'amb3_1', 'attr5_1', 'sinc5_1', 'intel5_1', 'fun5_1', 'amb5_1', 'dec', 'attr', 'sinc', 'intel', 'fun', 'amb', 'shar', 'like', 'prob', 'met', 'match_es', 'attr1_s', 'sinc1_s', 'intel1_s', 'fun1_s', 'amb1_s', 'shar1_s', 'attr3_s', 'sinc3_s', 'intel3_s', 'fun3_s', 'amb3_s', 'satis_2', 'length', 'numdat_2', 'attr7_2', 'sinc7_2', 'intel7_2', 'fun7_2', 'amb7_2', 'shar7_2', 'attr1_2', 'sinc1_2', 'intel1_2', 'fun1_2', 'amb1_2', 'shar1_2', 'attr4_2', 'sinc4_2', 'intel4_2', 'fun4_2', 'amb4_2', 'shar4_2', 'attr2_2', 'sinc2_2', 'intel2_2', 'fun2_2', 'amb2_2', 'shar2_2', 'attr3_2', 'sinc3_2', 'intel3_2', 'fun3_2', 'amb3_2', 'attr5_2', 'sinc5_2', 'intel5_2', 'fun5_2', 'amb5_2', 'you_call', 'them_cal', 'date_3', 'numdat_3', 'num_in_3', 'attr1_3', 'sinc1_3', 'intel1_3', 'fun1_3', 'amb1_3', 'shar1_3', 'attr7_3', 'sinc7_3', 'intel7_3', 'fun7_3', 'amb7_3', 'shar7_3', 'attr4_3', 'sinc4_3', 'intel4_3', 'fun4_3', 'amb4_3', 'shar4_3', 'attr2_3', 'sinc2_3', 'intel2_3', 'fun2_3', 'amb2_3', 'shar2_3', 'attr3_3', 'sinc3_3', 'intel3_3', 'fun3_3', 'amb3_3', 'attr5_3', 'sinc5_3', 'intel5_3', 'fun5_3', 'amb5_3']\n"
     ]
    }
   ],
   "source": [
    "print(df2.columns.tolist())"
   ]
  },
  {
   "cell_type": "code",
   "execution_count": 10,
   "metadata": {},
   "outputs": [
    {
     "data": {
      "text/plain": [
       "Male      4194\n",
       "Female    4184\n",
       "Name: gender, dtype: int64"
      ]
     },
     "execution_count": 10,
     "metadata": {},
     "output_type": "execute_result"
    }
   ],
   "source": [
    "#Meilleure lisibilité des genres\n",
    "df2[\"gender\"].replace({0:\"Female\",1:\"Male\"}, inplace=True)\n",
    "df2.gender.value_counts(dropna=True)"
   ]
  },
  {
   "cell_type": "code",
   "execution_count": 11,
   "metadata": {},
   "outputs": [
    {
     "data": {
      "image/png": "[encoded data removed]",
      "text/plain": [
       "<Figure size 432x288 with 1 Axes>"
      ]
     },
     "metadata": {
      "needs_background": "light"
     },
     "output_type": "display_data"
    }
   ],
   "source": [
    "#Division par sexe des participants\n",
    "countplt, ax = plt.subplots(figsize = (6,4))\n",
    "ax =sns.countplot(x = 'gender', data=df2, palette='Spectral')\n",
    "ax.set_title('Divisions des participants par sexe',fontsize = 15, fontweight='bold' )\n",
    "ax.set_xlabel('Sexe', fontsize = 13)\n",
    "ax.set_ylabel('Nb de participants', fontsize = 13)\n",
    "for rect in ax.patches:\n",
    "    ax.text (rect.get_x() + rect.get_width()  / 2,rect.get_height()+ 30,rect.get_height(),horizontalalignment='center', fontsize = 10)"
   ]
  },
  {
   "cell_type": "code",
   "execution_count": 12,
   "metadata": {},
   "outputs": [
    {
     "data": {
      "text/plain": [
       "Text(0.5, 0, 'Âge')"
      ]
     },
     "execution_count": 12,
     "metadata": {},
     "output_type": "execute_result"
    },
    {
     "data": {
      "image/png": "[encoded data removed]",
      "text/plain": [
       "<Figure size 864x288 with 1 Axes>"
      ]
     },
     "metadata": {
      "needs_background": "light"
     },
     "output_type": "display_data"
    }
   ],
   "source": [
    "#Visualisation des tranches d'âge des participants\n",
    "countplt, ax = plt.subplots(figsize = (12,4))\n",
    "ax = sns.countplot(x = df2[\"age\"], palette='mako')\n",
    "ax.set_xticklabels(ax.get_xticklabels(), \n",
    "                    fontsize=10, \n",
    "                    rotation=70)\n",
    "ax.set_title(\"Répartitions de l'âge des participants\", fontsize = 15, fontweight='bold')\n",
    "ax.set_ylabel(\"Nb de personnes\", fontsize=13)\n",
    "ax.set_xlabel(\"Âge\", fontsize=13)\n"
   ]
  },
  {
   "cell_type": "code",
   "execution_count": 13,
   "metadata": {},
   "outputs": [
    {
     "data": {
      "text/plain": [
       "Caucasian    4727\n",
       "Asian        1982\n",
       "Hispanic      664\n",
       "Other         522\n",
       "Black         420\n",
       "NaN            63\n",
       "Name: race, dtype: int64"
      ]
     },
     "execution_count": 13,
     "metadata": {},
     "output_type": "execute_result"
    }
   ],
   "source": [
    "#Visualisation de la répartition des origines\n",
    "df2['race'] = df2.race.map({1: 'Black', 2: 'Caucasian', 3: 'Hispanic', \n",
    "                          4: 'Asian', 5: 'Native American', 6: 'Other'}).fillna(df2.race)\n",
    "df2.race.value_counts(dropna=False)"
   ]
  },
  {
   "cell_type": "code",
   "execution_count": 14,
   "metadata": {},
   "outputs": [
    {
     "data": {
      "image/png": "[encoded data removed]",
      "text/plain": [
       "<Figure size 864x360 with 1 Axes>"
      ]
     },
     "metadata": {
      "needs_background": "light"
     },
     "output_type": "display_data"
    }
   ],
   "source": [
    "#Illustration des différentes origines des participants\n",
    "countplt, ax = plt.subplots(figsize = (12,5))\n",
    "ax = sns.countplot(x = df2[\"race\"], palette='coolwarm')\n",
    "ax.set_xticklabels(ax.get_xticklabels(), \n",
    "                    fontsize=10, \n",
    "                    rotation=0)\n",
    "ax.set_title(\"Les différentes origines des participants\", fontsize = 15, fontweight='bold')\n",
    "ax.set_ylabel(\"Nb de personnes\", fontsize=13)\n",
    "ax.set_xlabel(\"Origines\", fontsize=13)\n",
    "for rect in ax.patches:\n",
    "    ax.text (rect.get_x() + rect.get_width()  / 2,rect.get_height()+ 20,rect.get_height(),horizontalalignment='center', fontsize = 10)"
   ]
  },
  {
   "cell_type": "code",
   "execution_count": 15,
   "metadata": {},
   "outputs": [],
   "source": [
    "# Préparation des données pour la visualisation de l'importance de l'origine dans le matching\n",
    "def racify(x=0):\n",
    "    if x>10:\n",
    "        return \"Très important\"\n",
    "    elif x>7:\n",
    "        return \"Important\"\n",
    "    elif x>5:\n",
    "        return \"Plutôt important\"\n",
    "    elif x>3:\n",
    "        return \"Peu important\"\n",
    "    else:\n",
    "        return \"Pas important\"\n",
    "\n",
    "df2[\"importance_race\"] = df2[\"imprace\"].apply(lambda x: \"Très important\" if x>10\n",
    "                                                else \"Important\" if x>7\n",
    "                                                else \"Plutôt important\" if x>5\n",
    "                                                else \"Peu important\" if x>3\n",
    "                                                else \"Pas important\")\n",
    "\n",
    "df2[\"importance_race\"] = df2[\"imprace\"].apply(racify)\n"
   ]
  },
  {
   "cell_type": "code",
   "execution_count": 16,
   "metadata": {},
   "outputs": [
    {
     "data": {
      "text/plain": [
       "importance_race\n",
       "Important           1322\n",
       "Pas important       4822\n",
       "Peu important       1167\n",
       "Plutôt important    1067\n",
       "Name: dec_o, dtype: int64"
      ]
     },
     "execution_count": 16,
     "metadata": {},
     "output_type": "execute_result"
    }
   ],
   "source": [
    "#Groupby la data en fonction de l'importance de la race\n",
    "imp_race = df2.groupby(\"importance_race\")[\"dec_o\"].count()\n",
    "imp_race"
   ]
  },
  {
   "cell_type": "code",
   "execution_count": 17,
   "metadata": {},
   "outputs": [
    {
     "data": {
      "image/png": "[encoded data removed]",
      "text/plain": [
       "<Figure size 864x360 with 1 Axes>"
      ]
     },
     "metadata": {},
     "output_type": "display_data"
    },
    {
     "name": "stdout",
     "output_type": "stream",
     "text": [
      "Presque 60% des candidats déclarent que la race est pas importante\n"
     ]
    }
   ],
   "source": [
    "#Visualisation del'importance de l'origine pour un second date\n",
    "pie, ax = plt.subplots(figsize=[12,5])\n",
    "labels = imp_race.keys()\n",
    "plt.pie(x=imp_race, autopct=\"%.1f%%\", explode=[0.05]*4, labels=labels, pctdistance=0.5, startangle=20, shadow=True)\n",
    "plt.title(\"Importance de la race pour un second date\", fontsize=14);\n",
    "pie.savefig(\"Importance de la race pour un second date.png\")\n",
    "pie.set_facecolor('white')\n",
    "plt.show()\n",
    "print('Presque 60% des candidats déclarent que la race est pas importante')"
   ]
  },
  {
   "cell_type": "code",
   "execution_count": 18,
   "metadata": {},
   "outputs": [
    {
     "data": {
      "text/plain": [
       "No     5062\n",
       "Yes    3316\n",
       "Name: samerace, dtype: int64"
      ]
     },
     "execution_count": 18,
     "metadata": {},
     "output_type": "execute_result"
    }
   ],
   "source": [
    "#Meilleure lisibilité des personnes de la même race qui ont matchés\n",
    "df2[\"samerace\"].replace({0:\"No\",1:\"Yes\"}, inplace=True)\n",
    "df2.samerace.value_counts(dropna=True)"
   ]
  },
  {
   "cell_type": "code",
   "execution_count": 19,
   "metadata": {},
   "outputs": [
    {
     "data": {
      "text/plain": [
       "samerace\n",
       "No     5062\n",
       "Yes    3316\n",
       "Name: dec_o, dtype: int64"
      ]
     },
     "execution_count": 19,
     "metadata": {},
     "output_type": "execute_result"
    }
   ],
   "source": [
    "#Nombre de personnes ayant acceptées un second date classés par l'origine\n",
    "match_race = df2.groupby(\"samerace\")[\"dec_o\"].count()\n",
    "match_race"
   ]
  },
  {
   "cell_type": "code",
   "execution_count": 20,
   "metadata": {},
   "outputs": [
    {
     "data": {
      "image/png": "[encoded data removed]",
      "text/plain": [
       "<Figure size 432x288 with 1 Axes>"
      ]
     },
     "metadata": {
      "needs_background": "light"
     },
     "output_type": "display_data"
    },
    {
     "name": "stdout",
     "output_type": "stream",
     "text": [
      "En effet, les participants ont été fidèles à leurs propos et ils ne match pas en fonction de leur origines\n"
     ]
    }
   ],
   "source": [
    "#Visiualisation des match par des personnes de même origine\n",
    "countplt, ax = plt.subplots(figsize = (6,4))\n",
    "ax =sns.countplot(x = 'samerace', data=df2, palette=['#F66D44','#2D87BB'])\n",
    "ax.set_title('Match par des personnes de même origine',fontsize = 15, fontweight='bold' )\n",
    "ax.set_xlabel('Sexe', fontsize = 13)\n",
    "ax.set_ylabel('Nb de participants', fontsize = 13)\n",
    "for rect in ax.patches:\n",
    "    ax.text (rect.get_x() + rect.get_width()  / 2,rect.get_height()+ 30,rect.get_height(),horizontalalignment='center', fontsize = 10)\n",
    "plt.show()\n",
    "print('En effet, les participants ont été fidèles à leurs propos et ils ne match pas en fonction de leur origines')"
   ]
  },
  {
   "cell_type": "code",
   "execution_count": 21,
   "metadata": {},
   "outputs": [],
   "source": [
    "#Religion \n",
    "# Préparation des données pour la visualisation de l'importance de l'origine dans le matching\n",
    "def religion(x=0):\n",
    "    if x>10:\n",
    "        return \"Très important\"\n",
    "    elif x>7:\n",
    "        return \"Important\"\n",
    "    elif x>5:\n",
    "        return \"Plutôt important\"\n",
    "    elif x>3:\n",
    "        return \"Peu important\"\n",
    "    else:\n",
    "        return \"Pas important\"\n",
    "\n",
    "df2[\"importance_religion\"] = df2[\"imprelig\"].apply(lambda x: \"Très important\" if x>10\n",
    "                                                else \"Important\" if x>7\n",
    "                                                else \"Plutôt important\" if x>5\n",
    "                                                else \"Peu important\" if x>3\n",
    "                                                else \"Pas important\")\n",
    "\n",
    "df2[\"importance_religion\"] = df2[\"imprelig\"].apply(religion)\n"
   ]
  },
  {
   "cell_type": "code",
   "execution_count": 22,
   "metadata": {},
   "outputs": [
    {
     "data": {
      "text/plain": [
       "importance_religion\n",
       "Important           1126\n",
       "Pas important       4903\n",
       "Peu important       1221\n",
       "Plutôt important    1128\n",
       "Name: dec_o, dtype: int64"
      ]
     },
     "execution_count": 22,
     "metadata": {},
     "output_type": "execute_result"
    }
   ],
   "source": [
    "#Nombre de personnes ayant acceptées un second date classés par l'importance de la religion\n",
    "imp_relig = df2.groupby(\"importance_religion\")[\"dec_o\"].count()\n",
    "imp_relig"
   ]
  },
  {
   "cell_type": "code",
   "execution_count": 23,
   "metadata": {},
   "outputs": [
    {
     "data": {
      "image/png": "[encoded data removed]",
      "text/plain": [
       "<Figure size 864x360 with 1 Axes>"
      ]
     },
     "metadata": {},
     "output_type": "display_data"
    },
    {
     "name": "stdout",
     "output_type": "stream",
     "text": [
      "Presque 60% des candidats déclarent que la religion est pas importante pour un second date\n"
     ]
    }
   ],
   "source": [
    "#Visualisation de l'importance de la race pour un second date\n",
    "pie, ax = plt.subplots(figsize=[12,5])\n",
    "labels = imp_relig.keys()\n",
    "plt.pie(x=imp_relig, autopct=\"%.1f%%\", explode=[0.05]*4, labels=labels, pctdistance=0.5, startangle=20, shadow=True)\n",
    "plt.title(\"Importance de la religion par match\", fontsize=14);\n",
    "pie.savefig(\"Importance de la religion par match.png\")\n",
    "pie.set_facecolor('white')\n",
    "plt.show()\n",
    "print('Presque 60% des candidats déclarent que la religion est pas importante pour un second date')"
   ]
  },
  {
   "cell_type": "code",
   "execution_count": 24,
   "metadata": {},
   "outputs": [],
   "source": [
    "#Mapping des champs d'études en vu de la visualisation \n",
    "df2['field_cd'] = df2.field_cd.map({1: 'Law', 2: 'Math', 3: 'Soc. Sc.', 4: 'Med. Sc.', 5: 'Eng.', 6: 'Journ.', 7: 'Hist.', 8: 'Econ', 9: 'Educ.', 10: 'Nat. Sc.', 11: 'Soc. Wr.', 12: 'Und.', 13: 'Pol. Sc.',\n",
    "14: 'Film', 15: 'Arts', 16:'Lang.', 17: 'Arch.', 18: 'Oth.'})"
   ]
  },
  {
   "cell_type": "code",
   "execution_count": 25,
   "metadata": {},
   "outputs": [
    {
     "data": {
      "image/png": "[encoded data removed]",
      "text/plain": [
       "<Figure size 1008x432 with 1 Axes>"
      ]
     },
     "metadata": {
      "needs_background": "light"
     },
     "output_type": "display_data"
    }
   ],
   "source": [
    "# Visualisation des différents domaines d'études\n",
    "countplt, ax = plt.subplots(figsize = (14,6))\n",
    "ax = sns.countplot(x = df2[\"field_cd\"], palette='Spectral')\n",
    "ax.set_xticklabels(ax.get_xticklabels(), \n",
    "                    fontsize=10, \n",
    "                    rotation=90)\n",
    "ax.set_title(\"Les différents domaines d'études\", fontsize = 17, fontweight='bold')\n",
    "ax.set_ylabel(\"Nb de personnes\", fontsize=13)\n",
    "ax.set_xlabel(\"Domaines d'études\", fontsize=13)\n",
    "for rect in ax.patches:\n",
    "    ax.text (rect.get_x() + rect.get_width()  / 2,rect.get_height()+ 20,rect.get_height(),horizontalalignment='center', fontsize = 8)"
   ]
  },
  {
   "cell_type": "code",
   "execution_count": 26,
   "metadata": {},
   "outputs": [
    {
     "data": {
      "text/html": [
       "<div>\n",
       "<style scoped>\n",
       "    .dataframe tbody tr th:only-of-type {\n",
       "        vertical-align: middle;\n",
       "    }\n",
       "\n",
       "    .dataframe tbody tr th {\n",
       "        vertical-align: top;\n",
       "    }\n",
       "\n",
       "    .dataframe thead th {\n",
       "        text-align: right;\n",
       "    }\n",
       "</style>\n",
       "<table border=\"1\" class=\"dataframe\">\n",
       "  <thead>\n",
       "    <tr style=\"text-align: right;\">\n",
       "      <th></th>\n",
       "      <th>match</th>\n",
       "    </tr>\n",
       "    <tr>\n",
       "      <th>field</th>\n",
       "      <th></th>\n",
       "    </tr>\n",
       "  </thead>\n",
       "  <tbody>\n",
       "    <tr>\n",
       "      <th>Business</th>\n",
       "      <td>521</td>\n",
       "    </tr>\n",
       "    <tr>\n",
       "      <th>MBA</th>\n",
       "      <td>468</td>\n",
       "    </tr>\n",
       "    <tr>\n",
       "      <th>Law</th>\n",
       "      <td>462</td>\n",
       "    </tr>\n",
       "    <tr>\n",
       "      <th>Social Work</th>\n",
       "      <td>378</td>\n",
       "    </tr>\n",
       "    <tr>\n",
       "      <th>International Affairs</th>\n",
       "      <td>252</td>\n",
       "    </tr>\n",
       "    <tr>\n",
       "      <th>...</th>\n",
       "      <td>...</td>\n",
       "    </tr>\n",
       "    <tr>\n",
       "      <th>genetics</th>\n",
       "      <td>21</td>\n",
       "    </tr>\n",
       "    <tr>\n",
       "      <th>Electrical Engg.</th>\n",
       "      <td>21</td>\n",
       "    </tr>\n",
       "    <tr>\n",
       "      <th>medical informatics</th>\n",
       "      <td>21</td>\n",
       "    </tr>\n",
       "    <tr>\n",
       "      <th>Computational Biochemsistry</th>\n",
       "      <td>20</td>\n",
       "    </tr>\n",
       "    <tr>\n",
       "      <th>Mathematics, PhD</th>\n",
       "      <td>20</td>\n",
       "    </tr>\n",
       "  </tbody>\n",
       "</table>\n",
       "<p>100 rows × 1 columns</p>\n",
       "</div>"
      ],
      "text/plain": [
       "                             match\n",
       "field                             \n",
       "Business                       521\n",
       "MBA                            468\n",
       "Law                            462\n",
       "Social Work                    378\n",
       "International Affairs          252\n",
       "...                            ...\n",
       "genetics                        21\n",
       "Electrical Engg.                21\n",
       "medical informatics             21\n",
       "Computational Biochemsistry     20\n",
       "Mathematics, PhD                20\n",
       "\n",
       "[100 rows x 1 columns]"
      ]
     },
     "execution_count": 26,
     "metadata": {},
     "output_type": "execute_result"
    }
   ],
   "source": [
    "# Visualisation des Match par field commun\n",
    "match_field=df2.groupby([\"field\"])[[\"match\"]].count().sort_values(\"match\", ascending=False)\n",
    "match_field.head(100)"
   ]
  },
  {
   "cell_type": "code",
   "execution_count": 27,
   "metadata": {},
   "outputs": [
    {
     "name": "stdout",
     "output_type": "stream",
     "text": [
      "Il est difficile de sortir une tendance unique, les participants semblent être fidèles à leurs propos et matcher par domaines d'études ou en fonction du feeling avec l'autre\n"
     ]
    }
   ],
   "source": [
    "print('Il est difficile de sortir une tendance unique, les participants semblent être fidèles à leurs propos et matcher par domaines d\\'études ou en fonction du feeling avec l\\'autre')"
   ]
  },
  {
   "cell_type": "code",
   "execution_count": null,
   "metadata": {},
   "outputs": [],
   "source": []
  }
 ],
 "metadata": {
  "kernelspec": {
   "display_name": "Python 3",
   "language": "python",
   "name": "python3"
  },
  "language_info": {
   "codemirror_mode": {
    "name": "ipython",
    "version": 3
   },
   "file_extension": ".py",
   "mimetype": "text/x-python",
   "name": "python",
   "nbconvert_exporter": "python",
   "pygments_lexer": "ipython3",
   "version": "3.8.6"
  }
 },
 "nbformat": 4,
 "nbformat_minor": 4
}
